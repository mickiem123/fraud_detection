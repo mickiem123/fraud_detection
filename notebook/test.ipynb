{
 "cells": [
  {
   "cell_type": "code",
   "execution_count": null,
   "id": "3c09ad60",
   "metadata": {},
   "outputs": [],
   "source": [
    "from src.components.nn_data_ingestion import FraudDetectionDataset\n",
    "from src.baseline.data_ingestion import DataIngestorFactory, DataIngestorConfig\n",
    "from torch.utils.data import DataLoader\n",
    "from src.baseline.features_engineering import PreprocessorPipeline\n",
    "import pandas as pd\n",
    "import os"
   ]
  },
  {
   "cell_type": "code",
   "execution_count": 2,
   "id": "5afc6eb4",
   "metadata": {},
   "outputs": [
    {
     "name": "stdout",
     "output_type": "stream",
     "text": [
      "c:\\Users\\thuhi\\workspace\\fraud_detection\n"
     ]
    }
   ],
   "source": [
    "\n",
    "os.chdir(rf\"c:\\Users\\thuhi\\workspace\\fraud_detection\")\n",
    "print(os.getcwd())\n",
    "\n",
    "factory = DataIngestorFactory()\n",
    "ingestor = factory.create_ingestor(\"duration_pkl\")\n",
    "train_df, validation_df = ingestor.ingest(\n",
    "    dir_path=rf\"C:\\Users\\thuhi\\workspace\\fraud_detection\\data\\transformed_data\",\n",
    "    start_train_date=\"2018-07-01\",\n",
    "    train_duration=35,\n",
    "    test_duration=30,\n",
    "    delay=7\n",
    ")\n",
    "\n",
    "train_preprocessed = PreprocessorPipeline(train_df).process()\n",
    "validation_preprocessed = PreprocessorPipeline(validation_df,add_method=[\"smote\",\"scale\"]).process()"
   ]
  },
  {
   "cell_type": "code",
   "execution_count": 3,
   "id": "cd59cbd3",
   "metadata": {},
   "outputs": [],
   "source": [
    "train_data = FraudDetectionDataset(train_preprocessed, mode=\"transformed\")\n",
    "validation_data = FraudDetectionDataset(validation_preprocessed, mode=\"transformed\")\n",
    "batch_size = 2048\n",
    "train_loader = DataLoader(\n",
    "    train_data,\n",
    "    batch_size=batch_size,\n",
    "    shuffle=True,\n",
    "    num_workers=8,\n",
    "    persistent_workers=True\n",
    ")\n",
    "validation_loader = DataLoader(\n",
    "    validation_data,\n",
    "    batch_size=batch_size,\n",
    "    num_workers=8,\n",
    "    persistent_workers=True,\n",
    "    shuffle=False)\n"
   ]
  },
  {
   "cell_type": "code",
   "execution_count": 4,
   "id": "bbc53c33",
   "metadata": {},
   "outputs": [
    {
     "name": "stdout",
     "output_type": "stream",
     "text": [
      "Test data shape: torch.Size([588400, 15])\n",
      "Model device: cuda:0\n",
      "Predicted probabilities: tensor([[4.8894e-05],\n",
      "        [3.4507e-04],\n",
      "        [4.3044e-04],\n",
      "        ...,\n",
      "        [9.9811e-01],\n",
      "        [9.9999e-01],\n",
      "        [1.0000e+00]], device='cuda:0')\n",
      "Binary predictions: tensor([[0.],\n",
      "        [0.],\n",
      "        [0.],\n",
      "        ...,\n",
      "        [1.],\n",
      "        [1.],\n",
      "        [1.]], device='cuda:0')\n"
     ]
    }
   ],
   "source": [
    "import torch\n",
    "from src.components.feed_forward_nn import Feed_Forward_NN\n",
    "\n",
    "# Prepare test data\n",
    "test_data = torch.tensor(validation_preprocessed[DataIngestorConfig.input_features_transformed].to_numpy(), dtype=torch.float32)\n",
    "# Normalize if needed (replace with your training mean/std)\n",
    "# mean = torch.tensor(train_mean)\n",
    "# std = torch.tensor(train_std)\n",
    "# test_data = (test_data - mean) / std\n",
    "\n",
    "# Load the model\n",
    "model = Feed_Forward_NN.load_from_checkpoint(\n",
    "    rf\"C:\\Users\\thuhi\\workspace\\fraud_detection\\checkpoints\\best-model-20250606_083429-bs2048-ep40-pat10-1.0-traindur35-testdur7-epoch=08-val_loss=0.24.ckpt\",\n",
    "    input_size=len(DataIngestorConfig.input_features_transformed),\n",
    "    hidden_size=512,\n",
    "    pos_weight = torch.tensor(train_preprocessed[DataIngestorConfig().output_feature].sum()\n",
    "                              / (len(train_preprocessed) - train_preprocessed[DataIngestorConfig().output_feature].sum()))\n",
    ")\n",
    "model.eval()\n",
    "\n",
    "# Move test data to the same device as the model\n",
    "test_data = test_data.to(model.device)\n",
    "print(f\"Test data shape: {test_data.shape}\")\n",
    "print(f\"Model device: {next(model.parameters()).device}\")\n",
    "\n",
    "# Predict with the model\n",
    "with torch.no_grad():  # Disable gradient computation for inference\n",
    "    y_hat = model(test_data)\n",
    "    y_prob = torch.sigmoid(y_hat)  # Convert logits to probabilities\n",
    "    y_pred = (y_prob > 0.5).float()  # Binary predictions\n",
    "\n",
    "# Print some predictions\n",
    "print(f\"Predicted probabilities: {y_prob}\")\n",
    "print(f\"Binary predictions: {y_pred}\")\n",
    "\n",
    "# Compute metrics (assuming you have validation_labels)\n"
   ]
  },
  {
   "cell_type": "code",
   "execution_count": 8,
   "id": "2d11ddf3",
   "metadata": {},
   "outputs": [],
   "source": [
    "predicted_proba = pd.DataFrame(y_prob.cpu())\n",
    "\n",
    "validation_preprocessed[\"prob\"] = predicted_proba"
   ]
  },
  {
   "cell_type": "code",
   "execution_count": 9,
   "id": "2813d93b",
   "metadata": {},
   "outputs": [
    {
     "name": "stdout",
     "output_type": "stream",
     "text": [
      "     AUCROC        F1  Top100k_Precision\n",
      "0  0.971363  0.922031            0.99925\n"
     ]
    },
    {
     "data": {
      "text/plain": [
       "<Axes: xlabel='prob', ylabel='Count'>"
      ]
     },
     "execution_count": 9,
     "metadata": {},
     "output_type": "execute_result"
    },
    {
     "data": {
      "image/png": "[encoded data removed]",
      "text/plain": [
       "<Figure size 640x480 with 1 Axes>"
      ]
     },
     "metadata": {},
     "output_type": "display_data"
    }
   ],
   "source": [
    "import seaborn as sns\n",
    "from sklearn.metrics import roc_auc_score, f1_score, precision_score\n",
    "# True labels and predicted probabilities\n",
    "y_true = validation_preprocessed[\"TX_FRAUD\"].values\n",
    "y_scores = validation_preprocessed[\"prob\"].values\n",
    "\n",
    "# AUC-ROC\n",
    "aucroc = roc_auc_score(y_true, y_scores)\n",
    "\n",
    "# F1 score at threshold 0.5\n",
    "y_pred_bin = (y_scores > 0.5).astype(int)\n",
    "f1 = f1_score(y_true, y_pred_bin)\n",
    "\n",
    "# Top 100k precision\n",
    "top_k = 100_000\n",
    "top_k_idx = y_scores.argsort()[-top_k:][::-1]\n",
    "precision_top_k = precision_score(y_true[top_k_idx], y_pred_bin[top_k_idx])\n",
    "\n",
    "# Report as DataFrame\n",
    "metrics_df = pd.DataFrame({\n",
    "    \"AUCROC\": [aucroc],\n",
    "    \"F1\": [f1],\n",
    "    \"Top100k_Precision\": [precision_top_k]\n",
    "})\n",
    "print(metrics_df)\n",
    "sns.histplot(\n",
    "    data=validation_preprocessed,\n",
    "    x=\"prob\",\n",
    "    hue=\"TX_FRAUD\",\n",
    "    multiple=\"stack\",\n",
    "    bins=50,\n",
    "    palette={0: \"blue\", 1: \"red\"},\n",
    "    alpha=0.7\n",
    ")"
   ]
  },
  {
   "cell_type": "code",
   "execution_count": 18,
   "id": "d1d85eb3",
   "metadata": {},
   "outputs": [
    {
     "name": "stdout",
     "output_type": "stream",
     "text": [
      "     AUCROC        F1  Top100k_Precision\n",
      "0  0.722667  0.459519            0.39336\n",
      "Middle range samples: 123760\n"
     ]
    },
    {
     "data": {
      "text/plain": [
       "<Axes: xlabel='prob', ylabel='Count'>"
      ]
     },
     "execution_count": 18,
     "metadata": {},
     "output_type": "execute_result"
    },
    {
     "data": {
      "image/png": "[encoded data removed]",
      "text/plain": [
       "<Figure size 640x480 with 1 Axes>"
      ]
     },
     "metadata": {},
     "output_type": "display_data"
    }
   ],
   "source": [
    "# Filter out rows where predicted probability is exactly 0 or 1\n",
    "middle_range_df = validation_preprocessed[(validation_preprocessed[\"prob\"] > 0.05) & (validation_preprocessed[\"prob\"] < 0.95)]\n",
    "# AUC-ROC\n",
    "y_true = middle_range_df[\"TX_FRAUD\"].values\n",
    "y_scores = middle_range_df[\"prob\"].values\n",
    "\n",
    "aucroc = roc_auc_score(y_true, y_scores)\n",
    "\n",
    "# F1 score at threshold 0.5\n",
    "y_pred_bin = (y_scores > 0.5).astype(int)\n",
    "f1 = f1_score(y_true, y_pred_bin)\n",
    "\n",
    "# Top 100k precision\n",
    "top_k = 100_000\n",
    "top_k_idx = y_scores.argsort()[-top_k:][::-1]\n",
    "precision_top_k = precision_score(y_true[top_k_idx], y_pred_bin[top_k_idx])\n",
    "\n",
    "# Report as DataFrame\n",
    "metrics_df = pd.DataFrame({\n",
    "    \"AUCROC\": [aucroc],\n",
    "    \"F1\": [f1],\n",
    "    \"Top100k_Precision\": [precision_top_k]\n",
    "})\n",
    "print(metrics_df)\n",
    "print(f\"Middle range samples: {len(middle_range_df)}\")\n",
    "sns.histplot(\n",
    "    data=middle_range_df,\n",
    "    x=\"prob\",\n",
    "    hue=\"TX_FRAUD\",\n",
    "    multiple=\"stack\",\n",
    "    bins=50,\n",
    "    palette={0: \"blue\", 1: \"red\"},\n",
    "    alpha=0.7\n",
    ")"
   ]
  }
 ],
 "metadata": {
  "kernelspec": {
   "display_name": "fraud_detection_venv",
   "language": "python",
   "name": "python3"
  },
  "language_info": {
   "codemirror_mode": {
    "name": "ipython",
    "version": 3
   },
   "file_extension": ".py",
   "mimetype": "text/x-python",
   "name": "python",
   "nbconvert_exporter": "python",
   "pygments_lexer": "ipython3",
   "version": "3.11.9"
  }
 },
 "nbformat": 4,
 "nbformat_minor": 5
}
