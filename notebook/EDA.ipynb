{
 "cells": [
  {
   "cell_type": "code",
   "execution_count": 1,
   "id": "3c09ad60",
   "metadata": {},
   "outputs": [],
   "source": [
    "import pandas as pd\n",
    "import os"
   ]
  },
  {
   "cell_type": "code",
   "execution_count": 2,
   "id": "bbbefca5",
   "metadata": {},
   "outputs": [
    {
     "data": {
      "text/plain": [
       "'c:\\\\Users\\\\thuhi\\\\workspace\\\\fraud_detection'"
      ]
     },
     "execution_count": 2,
     "metadata": {},
     "output_type": "execute_result"
    }
   ],
   "source": [
    "os.chdir('c:\\\\Users\\\\thuhi\\\\workspace\\\\fraud_detection')\n",
    "os.getcwd()"
   ]
  },
  {
   "cell_type": "code",
   "execution_count": 3,
   "id": "aa5e574d",
   "metadata": {},
   "outputs": [
    {
     "data": {
      "application/vnd.microsoft.datawrangler.viewer.v0+json": {
       "columns": [
        {
         "name": "index",
         "rawType": "int64",
         "type": "integer"
        },
        {
         "name": "TRANSACTION_ID",
         "rawType": "int64",
         "type": "integer"
        },
        {
         "name": "TX_DATETIME",
         "rawType": "datetime64[ns]",
         "type": "datetime"
        },
        {
         "name": "CUSTOMER_ID",
         "rawType": "object",
         "type": "unknown"
        },
        {
         "name": "TERMINAL_ID",
         "rawType": "object",
         "type": "unknown"
        },
        {
         "name": "TX_AMOUNT",
         "rawType": "float64",
         "type": "float"
        },
        {
         "name": "TX_TIME_SECONDS",
         "rawType": "object",
         "type": "unknown"
        },
        {
         "name": "TX_TIME_DAYS",
         "rawType": "object",
         "type": "unknown"
        },
        {
         "name": "TX_FRAUD",
         "rawType": "int64",
         "type": "integer"
        },
        {
         "name": "TX_FRAUD_SCENARIO",
         "rawType": "int64",
         "type": "integer"
        }
       ],
       "conversionMethod": "pd.DataFrame",
       "ref": "77d8a996-7b22-4725-8731-f6eb2b68452c",
       "rows": [
        [
         "0",
         "0",
         "2018-04-01 00:00:31",
         "596",
         "3156",
         "57.16",
         "31",
         "0",
         "0",
         "0"
        ],
        [
         "1",
         "1",
         "2018-04-01 00:02:10",
         "4961",
         "3412",
         "81.51",
         "130",
         "0",
         "0",
         "0"
        ],
        [
         "2",
         "2",
         "2018-04-01 00:07:56",
         "2",
         "1365",
         "146.0",
         "476",
         "0",
         "0",
         "0"
        ],
        [
         "3",
         "3",
         "2018-04-01 00:09:29",
         "4128",
         "8737",
         "64.49",
         "569",
         "0",
         "0",
         "0"
        ],
        [
         "4",
         "4",
         "2018-04-01 00:10:34",
         "927",
         "9906",
         "50.99",
         "634",
         "0",
         "0",
         "0"
        ]
       ],
       "shape": {
        "columns": 9,
        "rows": 5
       }
      },
      "text/html": [
       "<div>\n",
       "<style scoped>\n",
       "    .dataframe tbody tr th:only-of-type {\n",
       "        vertical-align: middle;\n",
       "    }\n",
       "\n",
       "    .dataframe tbody tr th {\n",
       "        vertical-align: top;\n",
       "    }\n",
       "\n",
       "    .dataframe thead th {\n",
       "        text-align: right;\n",
       "    }\n",
       "</style>\n",
       "<table border=\"1\" class=\"dataframe\">\n",
       "  <thead>\n",
       "    <tr style=\"text-align: right;\">\n",
       "      <th></th>\n",
       "      <th>TRANSACTION_ID</th>\n",
       "      <th>TX_DATETIME</th>\n",
       "      <th>CUSTOMER_ID</th>\n",
       "      <th>TERMINAL_ID</th>\n",
       "      <th>TX_AMOUNT</th>\n",
       "      <th>TX_TIME_SECONDS</th>\n",
       "      <th>TX_TIME_DAYS</th>\n",
       "      <th>TX_FRAUD</th>\n",
       "      <th>TX_FRAUD_SCENARIO</th>\n",
       "    </tr>\n",
       "  </thead>\n",
       "  <tbody>\n",
       "    <tr>\n",
       "      <th>0</th>\n",
       "      <td>0</td>\n",
       "      <td>2018-04-01 00:00:31</td>\n",
       "      <td>596</td>\n",
       "      <td>3156</td>\n",
       "      <td>57.16</td>\n",
       "      <td>31</td>\n",
       "      <td>0</td>\n",
       "      <td>0</td>\n",
       "      <td>0</td>\n",
       "    </tr>\n",
       "    <tr>\n",
       "      <th>1</th>\n",
       "      <td>1</td>\n",
       "      <td>2018-04-01 00:02:10</td>\n",
       "      <td>4961</td>\n",
       "      <td>3412</td>\n",
       "      <td>81.51</td>\n",
       "      <td>130</td>\n",
       "      <td>0</td>\n",
       "      <td>0</td>\n",
       "      <td>0</td>\n",
       "    </tr>\n",
       "    <tr>\n",
       "      <th>2</th>\n",
       "      <td>2</td>\n",
       "      <td>2018-04-01 00:07:56</td>\n",
       "      <td>2</td>\n",
       "      <td>1365</td>\n",
       "      <td>146.00</td>\n",
       "      <td>476</td>\n",
       "      <td>0</td>\n",
       "      <td>0</td>\n",
       "      <td>0</td>\n",
       "    </tr>\n",
       "    <tr>\n",
       "      <th>3</th>\n",
       "      <td>3</td>\n",
       "      <td>2018-04-01 00:09:29</td>\n",
       "      <td>4128</td>\n",
       "      <td>8737</td>\n",
       "      <td>64.49</td>\n",
       "      <td>569</td>\n",
       "      <td>0</td>\n",
       "      <td>0</td>\n",
       "      <td>0</td>\n",
       "    </tr>\n",
       "    <tr>\n",
       "      <th>4</th>\n",
       "      <td>4</td>\n",
       "      <td>2018-04-01 00:10:34</td>\n",
       "      <td>927</td>\n",
       "      <td>9906</td>\n",
       "      <td>50.99</td>\n",
       "      <td>634</td>\n",
       "      <td>0</td>\n",
       "      <td>0</td>\n",
       "      <td>0</td>\n",
       "    </tr>\n",
       "  </tbody>\n",
       "</table>\n",
       "</div>"
      ],
      "text/plain": [
       "   TRANSACTION_ID         TX_DATETIME CUSTOMER_ID TERMINAL_ID  TX_AMOUNT  \\\n",
       "0               0 2018-04-01 00:00:31         596        3156      57.16   \n",
       "1               1 2018-04-01 00:02:10        4961        3412      81.51   \n",
       "2               2 2018-04-01 00:07:56           2        1365     146.00   \n",
       "3               3 2018-04-01 00:09:29        4128        8737      64.49   \n",
       "4               4 2018-04-01 00:10:34         927        9906      50.99   \n",
       "\n",
       "  TX_TIME_SECONDS TX_TIME_DAYS  TX_FRAUD  TX_FRAUD_SCENARIO  \n",
       "0              31            0         0                  0  \n",
       "1             130            0         0                  0  \n",
       "2             476            0         0                  0  \n",
       "3             569            0         0                  0  \n",
       "4             634            0         0                  0  "
      ]
     },
     "execution_count": 3,
     "metadata": {},
     "output_type": "execute_result"
    }
   ],
   "source": [
    "df_1day = pd.read_pickle(rf\"C:\\Users\\thuhi\\workspace\\fraud_detection\\data\\raw_data\\2018-04-01.pkl\")\n",
    "df_1day.head()"
   ]
  },
  {
   "cell_type": "code",
   "execution_count": 4,
   "id": "ce368f7f",
   "metadata": {},
   "outputs": [
    {
     "data": {
      "application/vnd.microsoft.datawrangler.viewer.v0+json": {
       "columns": [
        {
         "name": "index",
         "rawType": "int64",
         "type": "integer"
        },
        {
         "name": "TX_DURING_WEEKEND",
         "rawType": "int64",
         "type": "integer"
        }
       ],
       "conversionMethod": "pd.DataFrame",
       "ref": "10949858-41a9-4cb6-8114-e32c527b1ff3",
       "rows": [
        [
         "0",
         "1"
        ],
        [
         "1",
         "1"
        ],
        [
         "2",
         "1"
        ],
        [
         "3",
         "1"
        ],
        [
         "4",
         "1"
        ]
       ],
       "shape": {
        "columns": 1,
        "rows": 5
       }
      },
      "text/html": [
       "<div>\n",
       "<style scoped>\n",
       "    .dataframe tbody tr th:only-of-type {\n",
       "        vertical-align: middle;\n",
       "    }\n",
       "\n",
       "    .dataframe tbody tr th {\n",
       "        vertical-align: top;\n",
       "    }\n",
       "\n",
       "    .dataframe thead th {\n",
       "        text-align: right;\n",
       "    }\n",
       "</style>\n",
       "<table border=\"1\" class=\"dataframe\">\n",
       "  <thead>\n",
       "    <tr style=\"text-align: right;\">\n",
       "      <th></th>\n",
       "      <th>TX_DURING_WEEKEND</th>\n",
       "    </tr>\n",
       "  </thead>\n",
       "  <tbody>\n",
       "    <tr>\n",
       "      <th>0</th>\n",
       "      <td>1</td>\n",
       "    </tr>\n",
       "    <tr>\n",
       "      <th>1</th>\n",
       "      <td>1</td>\n",
       "    </tr>\n",
       "    <tr>\n",
       "      <th>2</th>\n",
       "      <td>1</td>\n",
       "    </tr>\n",
       "    <tr>\n",
       "      <th>3</th>\n",
       "      <td>1</td>\n",
       "    </tr>\n",
       "    <tr>\n",
       "      <th>4</th>\n",
       "      <td>1</td>\n",
       "    </tr>\n",
       "  </tbody>\n",
       "</table>\n",
       "</div>"
      ],
      "text/plain": [
       "   TX_DURING_WEEKEND\n",
       "0                  1\n",
       "1                  1\n",
       "2                  1\n",
       "3                  1\n",
       "4                  1"
      ]
     },
     "execution_count": 4,
     "metadata": {},
     "output_type": "execute_result"
    }
   ],
   "source": [
    "df_1day[\"TX_DURING_WEEKEND\"] = df_1day[\"TX_DATETIME\"].map(lambda x: 1 if x.weekday()>=5 else 0)\n",
    "df_1day[[\"TX_DURING_WEEKEND\"]].head()"
   ]
  },
  {
   "cell_type": "code",
   "execution_count": 5,
   "id": "02bb2402",
   "metadata": {},
   "outputs": [],
   "source": [
    "def get_CUSTOMER_ID_NB_TX_nDAY_WINDOW(df):\n",
    "    windows_size = [1,7,30]\n",
    "    for size in windows_size:\n",
    "        df[f\"NB_TX_{size}DAY_WINDOW\"] = (\n",
    "        df.groupby(\"CUSTOMER_ID\")[\"TX_DATETIME\"]\n",
    "        .rolling(f\"{size}D\", on=\"TX_DATETIME\")\n",
    "        .count()\n",
    "        .reset_index(level=0, drop=True)\n",
    "        )\n",
    "    return df \n",
    "df_30day = pd.DataFrame()\n",
    "for file in os.listdir(rf\"C:\\Users\\thuhi\\workspace\\fraud_detection\\data\\raw_data\"):\n",
    "    temp = pd.read_pickle(os.path.join(rf\"C:\\Users\\thuhi\\workspace\\fraud_detection\\data\\raw_data\",file))\n",
    "    df_30day = pd.concat([df_30day,temp])\n",
    "\n"
   ]
  },
  {
   "cell_type": "code",
   "execution_count": 6,
   "id": "08896bb8",
   "metadata": {},
   "outputs": [
    {
     "data": {
      "application/vnd.microsoft.datawrangler.viewer.v0+json": {
       "columns": [
        {
         "name": "index",
         "rawType": "int64",
         "type": "integer"
        },
        {
         "name": "CUSTOMER_ID",
         "rawType": "int64",
         "type": "integer"
        },
        {
         "name": "TX_DATETIME",
         "rawType": "datetime64[ns]",
         "type": "datetime"
        },
        {
         "name": "TRANSACTION_ID",
         "rawType": "float64",
         "type": "float"
        }
       ],
       "conversionMethod": "pd.DataFrame",
       "ref": "f7e96126-74f7-43fb-acf4-f9280dafaf1d",
       "rows": [
        [
         "0",
         "0",
         "2018-04-01 07:19:05",
         "1.0"
        ],
        [
         "1",
         "0",
         "2018-04-01 18:00:16",
         "2.0"
        ],
        [
         "2",
         "0",
         "2018-04-01 19:02:02",
         "3.0"
        ],
        [
         "3",
         "0",
         "2018-04-02 08:51:06",
         "3.0"
        ],
        [
         "4",
         "0",
         "2018-04-02 14:05:38",
         "4.0"
        ],
        [
         "5",
         "0",
         "2018-04-02 15:13:02",
         "5.0"
        ],
        [
         "6",
         "0",
         "2018-04-02 15:46:51",
         "6.0"
        ],
        [
         "7",
         "0",
         "2018-04-02 20:24:47",
         "5.0"
        ],
        [
         "8",
         "0",
         "2018-04-03 07:41:24",
         "6.0"
        ],
        [
         "9",
         "0",
         "2018-04-03 08:50:09",
         "7.0"
        ],
        [
         "10",
         "0",
         "2018-04-03 09:25:49",
         "7.0"
        ],
        [
         "11",
         "0",
         "2018-04-03 12:15:47",
         "8.0"
        ],
        [
         "12",
         "0",
         "2018-04-03 15:33:14",
         "7.0"
        ],
        [
         "13",
         "0",
         "2018-04-04 01:15:35",
         "6.0"
        ],
        [
         "14",
         "0",
         "2018-04-04 09:33:58",
         "4.0"
        ],
        [
         "15",
         "0",
         "2018-04-05 07:41:19",
         "2.0"
        ],
        [
         "16",
         "0",
         "2018-04-05 16:19:09",
         "2.0"
        ],
        [
         "17",
         "0",
         "2018-04-06 09:57:49",
         "2.0"
        ],
        [
         "18",
         "0",
         "2018-04-06 14:22:46",
         "3.0"
        ],
        [
         "19",
         "0",
         "2018-04-07 13:40:49",
         "2.0"
        ],
        [
         "20",
         "0",
         "2018-04-08 09:59:05",
         "2.0"
        ],
        [
         "21",
         "0",
         "2018-04-10 02:24:34",
         "1.0"
        ],
        [
         "22",
         "0",
         "2018-04-10 12:17:18",
         "2.0"
        ],
        [
         "23",
         "0",
         "2018-04-11 12:42:59",
         "1.0"
        ],
        [
         "24",
         "0",
         "2018-04-11 17:39:17",
         "2.0"
        ],
        [
         "25",
         "0",
         "2018-04-13 05:03:02",
         "1.0"
        ],
        [
         "26",
         "0",
         "2018-04-14 11:00:01",
         "1.0"
        ],
        [
         "27",
         "0",
         "2018-04-14 17:00:16",
         "2.0"
        ],
        [
         "28",
         "0",
         "2018-04-14 22:31:57",
         "3.0"
        ],
        [
         "29",
         "0",
         "2018-04-15 04:30:44",
         "4.0"
        ],
        [
         "30",
         "0",
         "2018-04-15 14:13:59",
         "4.0"
        ],
        [
         "31",
         "0",
         "2018-04-15 17:23:07",
         "4.0"
        ],
        [
         "32",
         "0",
         "2018-04-15 17:51:29",
         "5.0"
        ],
        [
         "33",
         "0",
         "2018-04-15 21:55:17",
         "6.0"
        ],
        [
         "34",
         "0",
         "2018-04-16 22:47:52",
         "1.0"
        ],
        [
         "35",
         "0",
         "2018-04-17 11:08:19",
         "2.0"
        ],
        [
         "36",
         "0",
         "2018-04-17 16:27:29",
         "3.0"
        ],
        [
         "37",
         "0",
         "2018-04-17 20:13:30",
         "4.0"
        ],
        [
         "38",
         "0",
         "2018-04-19 12:16:37",
         "1.0"
        ],
        [
         "39",
         "0",
         "2018-04-19 13:35:47",
         "2.0"
        ],
        [
         "40",
         "0",
         "2018-04-19 17:07:24",
         "3.0"
        ],
        [
         "41",
         "0",
         "2018-04-20 14:16:02",
         "2.0"
        ],
        [
         "42",
         "0",
         "2018-04-20 22:16:25",
         "2.0"
        ],
        [
         "43",
         "0",
         "2018-04-21 07:27:15",
         "3.0"
        ],
        [
         "44",
         "0",
         "2018-04-21 14:15:49",
         "4.0"
        ],
        [
         "45",
         "0",
         "2018-04-23 04:49:38",
         "1.0"
        ],
        [
         "46",
         "0",
         "2018-04-24 05:55:38",
         "1.0"
        ],
        [
         "47",
         "0",
         "2018-04-24 14:26:27",
         "2.0"
        ],
        [
         "48",
         "0",
         "2018-04-24 15:45:28",
         "3.0"
        ],
        [
         "49",
         "0",
         "2018-04-25 09:26:08",
         "3.0"
        ]
       ],
       "shape": {
        "columns": 3,
        "rows": 1754155
       }
      },
      "text/html": [
       "<div>\n",
       "<style scoped>\n",
       "    .dataframe tbody tr th:only-of-type {\n",
       "        vertical-align: middle;\n",
       "    }\n",
       "\n",
       "    .dataframe tbody tr th {\n",
       "        vertical-align: top;\n",
       "    }\n",
       "\n",
       "    .dataframe thead th {\n",
       "        text-align: right;\n",
       "    }\n",
       "</style>\n",
       "<table border=\"1\" class=\"dataframe\">\n",
       "  <thead>\n",
       "    <tr style=\"text-align: right;\">\n",
       "      <th></th>\n",
       "      <th>CUSTOMER_ID</th>\n",
       "      <th>TX_DATETIME</th>\n",
       "      <th>TRANSACTION_ID</th>\n",
       "    </tr>\n",
       "  </thead>\n",
       "  <tbody>\n",
       "    <tr>\n",
       "      <th>0</th>\n",
       "      <td>0</td>\n",
       "      <td>2018-04-01 07:19:05</td>\n",
       "      <td>1.0</td>\n",
       "    </tr>\n",
       "    <tr>\n",
       "      <th>1</th>\n",
       "      <td>0</td>\n",
       "      <td>2018-04-01 18:00:16</td>\n",
       "      <td>2.0</td>\n",
       "    </tr>\n",
       "    <tr>\n",
       "      <th>2</th>\n",
       "      <td>0</td>\n",
       "      <td>2018-04-01 19:02:02</td>\n",
       "      <td>3.0</td>\n",
       "    </tr>\n",
       "    <tr>\n",
       "      <th>3</th>\n",
       "      <td>0</td>\n",
       "      <td>2018-04-02 08:51:06</td>\n",
       "      <td>3.0</td>\n",
       "    </tr>\n",
       "    <tr>\n",
       "      <th>4</th>\n",
       "      <td>0</td>\n",
       "      <td>2018-04-02 14:05:38</td>\n",
       "      <td>4.0</td>\n",
       "    </tr>\n",
       "    <tr>\n",
       "      <th>...</th>\n",
       "      <td>...</td>\n",
       "      <td>...</td>\n",
       "      <td>...</td>\n",
       "    </tr>\n",
       "    <tr>\n",
       "      <th>1754150</th>\n",
       "      <td>4999</td>\n",
       "      <td>2018-09-29 12:12:38</td>\n",
       "      <td>5.0</td>\n",
       "    </tr>\n",
       "    <tr>\n",
       "      <th>1754151</th>\n",
       "      <td>4999</td>\n",
       "      <td>2018-09-29 17:06:15</td>\n",
       "      <td>5.0</td>\n",
       "    </tr>\n",
       "    <tr>\n",
       "      <th>1754152</th>\n",
       "      <td>4999</td>\n",
       "      <td>2018-09-30 04:32:41</td>\n",
       "      <td>5.0</td>\n",
       "    </tr>\n",
       "    <tr>\n",
       "      <th>1754153</th>\n",
       "      <td>4999</td>\n",
       "      <td>2018-09-30 08:07:27</td>\n",
       "      <td>4.0</td>\n",
       "    </tr>\n",
       "    <tr>\n",
       "      <th>1754154</th>\n",
       "      <td>4999</td>\n",
       "      <td>2018-09-30 19:12:37</td>\n",
       "      <td>3.0</td>\n",
       "    </tr>\n",
       "  </tbody>\n",
       "</table>\n",
       "<p>1754155 rows × 3 columns</p>\n",
       "</div>"
      ],
      "text/plain": [
       "         CUSTOMER_ID         TX_DATETIME  TRANSACTION_ID\n",
       "0                  0 2018-04-01 07:19:05             1.0\n",
       "1                  0 2018-04-01 18:00:16             2.0\n",
       "2                  0 2018-04-01 19:02:02             3.0\n",
       "3                  0 2018-04-02 08:51:06             3.0\n",
       "4                  0 2018-04-02 14:05:38             4.0\n",
       "...              ...                 ...             ...\n",
       "1754150         4999 2018-09-29 12:12:38             5.0\n",
       "1754151         4999 2018-09-29 17:06:15             5.0\n",
       "1754152         4999 2018-09-30 04:32:41             5.0\n",
       "1754153         4999 2018-09-30 08:07:27             4.0\n",
       "1754154         4999 2018-09-30 19:12:37             3.0\n",
       "\n",
       "[1754155 rows x 3 columns]"
      ]
     },
     "execution_count": 6,
     "metadata": {},
     "output_type": "execute_result"
    }
   ],
   "source": [
    "result = (df_30day\n",
    "          .sort_values(\"TX_DATETIME\")\n",
    "          .groupby(\"CUSTOMER_ID\")\n",
    "          .rolling(\"1D\", on=\"TX_DATETIME\")\n",
    "          [\"TRANSACTION_ID\"].count()\n",
    "          .reset_index())\n",
    "\n",
    "result"
   ]
  },
  {
   "cell_type": "code",
   "execution_count": 7,
   "id": "10ef5ff0",
   "metadata": {},
   "outputs": [
    {
     "data": {
      "application/vnd.microsoft.datawrangler.viewer.v0+json": {
       "columns": [
        {
         "name": "index",
         "rawType": "int64",
         "type": "integer"
        },
        {
         "name": "TX_DATETIME",
         "rawType": "datetime64[ns]",
         "type": "datetime"
        },
        {
         "name": "CUSTOMER_ID",
         "rawType": "object",
         "type": "unknown"
        },
        {
         "name": "CUSTOMER_NB_TX_1D",
         "rawType": "float64",
         "type": "float"
        }
       ],
       "conversionMethod": "pd.DataFrame",
       "ref": "5f4f3362-be48-4c58-bdaf-c8359dca7892",
       "rows": [
        [
         "1758",
         "2018-04-01 07:19:05",
         "0",
         "1.0"
        ],
        [
         "8275",
         "2018-04-01 18:00:16",
         "0",
         "2.0"
        ],
        [
         "8640",
         "2018-04-01 19:02:02",
         "0",
         "2.0"
        ],
        [
         "12169",
         "2018-04-02 08:51:06",
         "0",
         "4.0"
        ],
        [
         "15764",
         "2018-04-02 14:05:38",
         "0",
         "2.0"
        ],
        [
         "16470",
         "2018-04-02 15:13:02",
         "0",
         "1.0"
        ],
        [
         "16810",
         "2018-04-02 15:46:51",
         "0",
         "3.0"
        ],
        [
         "18572",
         "2018-04-02 20:24:47",
         "0",
         "1.0"
        ],
        [
         "21219",
         "2018-04-03 07:41:24",
         "0",
         "4.0"
        ],
        [
         "21852",
         "2018-04-03 08:50:09",
         "0",
         "2.0"
        ],
        [
         "22201",
         "2018-04-03 09:25:49",
         "0",
         "5.0"
        ],
        [
         "24199",
         "2018-04-03 12:15:47",
         "0",
         "1.0"
        ],
        [
         "26383",
         "2018-04-03 15:33:14",
         "0",
         "2.0"
        ],
        [
         "28938",
         "2018-04-04 01:15:35",
         "0",
         "8.0"
        ],
        [
         "31915",
         "2018-04-04 09:33:58",
         "0",
         "5.0"
        ],
        [
         "40454",
         "2018-04-05 07:41:19",
         "0",
         "10.0"
        ],
        [
         "46040",
         "2018-04-05 16:19:09",
         "0",
         "2.0"
        ],
        [
         "51399",
         "2018-04-06 09:57:49",
         "0",
         "5.0"
        ],
        [
         "54400",
         "2018-04-06 14:22:46",
         "0",
         "1.0"
        ],
        [
         "63534",
         "2018-04-07 13:40:49",
         "0",
         "3.0"
        ],
        [
         "70253",
         "2018-04-08 09:59:05",
         "0",
         "4.0"
        ],
        [
         "86416",
         "2018-04-10 02:24:34",
         "0",
         "1.0"
        ],
        [
         "91119",
         "2018-04-10 12:17:18",
         "0",
         "1.0"
        ],
        [
         "101191",
         "2018-04-11 12:42:59",
         "0",
         "9.0"
        ],
        [
         "104063",
         "2018-04-11 17:39:17",
         "0",
         "5.0"
        ],
        [
         "115894",
         "2018-04-13 05:03:02",
         "0",
         "4.0"
        ],
        [
         "128821",
         "2018-04-14 11:00:01",
         "0",
         "5.0"
        ],
        [
         "132661",
         "2018-04-14 17:00:16",
         "0",
         "9.0"
        ],
        [
         "134156",
         "2018-04-14 22:31:57",
         "0",
         "8.0"
        ],
        [
         "135004",
         "2018-04-15 04:30:44",
         "0",
         "2.0"
        ],
        [
         "140531",
         "2018-04-15 14:13:59",
         "0",
         "3.0"
        ],
        [
         "142284",
         "2018-04-15 17:23:07",
         "0",
         "2.0"
        ],
        [
         "142481",
         "2018-04-15 17:51:29",
         "0",
         "2.0"
        ],
        [
         "143548",
         "2018-04-15 21:55:17",
         "0",
         "5.0"
        ],
        [
         "153184",
         "2018-04-16 22:47:52",
         "0",
         "5.0"
        ],
        [
         "157461",
         "2018-04-17 11:08:19",
         "0",
         "4.0"
        ],
        [
         "160876",
         "2018-04-17 16:27:29",
         "0",
         "4.0"
        ],
        [
         "162339",
         "2018-04-17 20:13:30",
         "0",
         "3.0"
        ],
        [
         "177493",
         "2018-04-19 12:16:37",
         "0",
         "3.0"
        ],
        [
         "178389",
         "2018-04-19 13:35:47",
         "0",
         "3.0"
        ],
        [
         "180418",
         "2018-04-19 17:07:24",
         "0",
         "5.0"
        ],
        [
         "188341",
         "2018-04-20 14:16:02",
         "0",
         "2.0"
        ],
        [
         "191444",
         "2018-04-20 22:16:25",
         "0",
         "6.0"
        ],
        [
         "193482",
         "2018-04-21 07:27:15",
         "0",
         "4.0"
        ],
        [
         "197932",
         "2018-04-21 14:15:49",
         "0",
         "6.0"
        ],
        [
         "211840",
         "2018-04-23 04:49:38",
         "0",
         "3.0"
        ],
        [
         "221914",
         "2018-04-24 05:55:38",
         "0",
         "2.0"
        ],
        [
         "227260",
         "2018-04-24 14:26:27",
         "0",
         "4.0"
        ],
        [
         "228046",
         "2018-04-24 15:45:28",
         "0",
         "3.0"
        ],
        [
         "233247",
         "2018-04-25 09:26:08",
         "0",
         "1.0"
        ]
       ],
       "shape": {
        "columns": 3,
        "rows": 384
       }
      },
      "text/html": [
       "<div>\n",
       "<style scoped>\n",
       "    .dataframe tbody tr th:only-of-type {\n",
       "        vertical-align: middle;\n",
       "    }\n",
       "\n",
       "    .dataframe tbody tr th {\n",
       "        vertical-align: top;\n",
       "    }\n",
       "\n",
       "    .dataframe thead th {\n",
       "        text-align: right;\n",
       "    }\n",
       "</style>\n",
       "<table border=\"1\" class=\"dataframe\">\n",
       "  <thead>\n",
       "    <tr style=\"text-align: right;\">\n",
       "      <th></th>\n",
       "      <th>TX_DATETIME</th>\n",
       "      <th>CUSTOMER_ID</th>\n",
       "      <th>CUSTOMER_NB_TX_1D</th>\n",
       "    </tr>\n",
       "  </thead>\n",
       "  <tbody>\n",
       "    <tr>\n",
       "      <th>1758</th>\n",
       "      <td>2018-04-01 07:19:05</td>\n",
       "      <td>0</td>\n",
       "      <td>1.0</td>\n",
       "    </tr>\n",
       "    <tr>\n",
       "      <th>8275</th>\n",
       "      <td>2018-04-01 18:00:16</td>\n",
       "      <td>0</td>\n",
       "      <td>2.0</td>\n",
       "    </tr>\n",
       "    <tr>\n",
       "      <th>8640</th>\n",
       "      <td>2018-04-01 19:02:02</td>\n",
       "      <td>0</td>\n",
       "      <td>2.0</td>\n",
       "    </tr>\n",
       "    <tr>\n",
       "      <th>12169</th>\n",
       "      <td>2018-04-02 08:51:06</td>\n",
       "      <td>0</td>\n",
       "      <td>4.0</td>\n",
       "    </tr>\n",
       "    <tr>\n",
       "      <th>15764</th>\n",
       "      <td>2018-04-02 14:05:38</td>\n",
       "      <td>0</td>\n",
       "      <td>2.0</td>\n",
       "    </tr>\n",
       "    <tr>\n",
       "      <th>...</th>\n",
       "      <td>...</td>\n",
       "      <td>...</td>\n",
       "      <td>...</td>\n",
       "    </tr>\n",
       "    <tr>\n",
       "      <th>1750390</th>\n",
       "      <td>2018-09-30 13:38:41</td>\n",
       "      <td>0</td>\n",
       "      <td>1.0</td>\n",
       "    </tr>\n",
       "    <tr>\n",
       "      <th>1750758</th>\n",
       "      <td>2018-09-30 14:10:21</td>\n",
       "      <td>0</td>\n",
       "      <td>6.0</td>\n",
       "    </tr>\n",
       "    <tr>\n",
       "      <th>1751039</th>\n",
       "      <td>2018-09-30 14:34:30</td>\n",
       "      <td>0</td>\n",
       "      <td>2.0</td>\n",
       "    </tr>\n",
       "    <tr>\n",
       "      <th>1751272</th>\n",
       "      <td>2018-09-30 14:54:59</td>\n",
       "      <td>0</td>\n",
       "      <td>5.0</td>\n",
       "    </tr>\n",
       "    <tr>\n",
       "      <th>1751455</th>\n",
       "      <td>2018-09-30 15:11:37</td>\n",
       "      <td>0</td>\n",
       "      <td>1.0</td>\n",
       "    </tr>\n",
       "  </tbody>\n",
       "</table>\n",
       "<p>384 rows × 3 columns</p>\n",
       "</div>"
      ],
      "text/plain": [
       "                TX_DATETIME CUSTOMER_ID  CUSTOMER_NB_TX_1D\n",
       "1758    2018-04-01 07:19:05           0                1.0\n",
       "8275    2018-04-01 18:00:16           0                2.0\n",
       "8640    2018-04-01 19:02:02           0                2.0\n",
       "12169   2018-04-02 08:51:06           0                4.0\n",
       "15764   2018-04-02 14:05:38           0                2.0\n",
       "...                     ...         ...                ...\n",
       "1750390 2018-09-30 13:38:41           0                1.0\n",
       "1750758 2018-09-30 14:10:21           0                6.0\n",
       "1751039 2018-09-30 14:34:30           0                2.0\n",
       "1751272 2018-09-30 14:54:59           0                5.0\n",
       "1751455 2018-09-30 15:11:37           0                1.0\n",
       "\n",
       "[384 rows x 3 columns]"
      ]
     },
     "execution_count": 7,
     "metadata": {},
     "output_type": "execute_result"
    }
   ],
   "source": [
    "df_30day[\"CUSTOMER_NB_TX_1D\"] = result[\"TRANSACTION_ID\"]\n",
    "df_30day[df_30day[\"CUSTOMER_ID\"]==0][[\"TX_DATETIME\",\"CUSTOMER_ID\",\"CUSTOMER_NB_TX_1D\"]].sort_values(by=\"TX_DATETIME\")"
   ]
  },
  {
   "cell_type": "code",
   "execution_count": 8,
   "id": "fb0de868",
   "metadata": {},
   "outputs": [
    {
     "data": {
      "text/plain": [
       "TERMINAL_ID  TX_DATETIME        \n",
       "0            2018-04-02 01:00:01    0.0\n",
       "             2018-04-02 09:49:55    0.0\n",
       "             2018-04-03 12:14:41    0.0\n",
       "             2018-04-05 16:47:41    0.0\n",
       "             2018-04-07 06:05:21    0.0\n",
       "                                   ... \n",
       "9999         2018-09-28 15:34:24    0.0\n",
       "             2018-09-30 05:36:08    0.0\n",
       "             2018-09-30 09:00:10    0.0\n",
       "             2018-09-30 17:47:37    0.0\n",
       "             2018-09-30 20:50:32    0.0\n",
       "Name: TX_FRAUD, Length: 1754155, dtype: float64"
      ]
     },
     "execution_count": 8,
     "metadata": {},
     "output_type": "execute_result"
    }
   ],
   "source": [
    "NB_TX_FRAUD_DELAY_AND_SIZE = df_30day.groupby(\"TERMINAL_ID\").rolling(\"8d\",on=\"TX_DATETIME\")[\"TX_FRAUD\"].sum()\n",
    "NB_TX_FRAUD_DELAY = df_30day.groupby(\"TERMINAL_ID\").rolling(\"7d\",on=\"TX_DATETIME\")[\"TX_FRAUD\"].sum()\n",
    "NB_TX_FRAUD = NB_TX_FRAUD_DELAY_AND_SIZE - NB_TX_FRAUD_DELAY\n",
    "\n",
    "NB_TX_FRAUD"
   ]
  },
  {
   "cell_type": "code",
   "execution_count": 9,
   "id": "9ef70dd3",
   "metadata": {},
   "outputs": [
    {
     "data": {
      "application/vnd.microsoft.datawrangler.viewer.v0+json": {
       "columns": [
        {
         "name": "index",
         "rawType": "int64",
         "type": "integer"
        },
        {
         "name": "TERMINAL_ID",
         "rawType": "int64",
         "type": "integer"
        },
        {
         "name": "TX_DATETIME",
         "rawType": "datetime64[ns]",
         "type": "datetime"
        },
        {
         "name": "TX_FRAUD",
         "rawType": "float64",
         "type": "float"
        }
       ],
       "conversionMethod": "pd.DataFrame",
       "ref": "be7b92ff-e7af-493c-8d9d-f2436d352315",
       "rows": [
        [
         "0",
         "0",
         "2018-04-02 01:00:01",
         "1.0"
        ],
        [
         "1",
         "0",
         "2018-04-02 09:49:55",
         "2.0"
        ],
        [
         "2",
         "0",
         "2018-04-03 12:14:41",
         "3.0"
        ],
        [
         "3",
         "0",
         "2018-04-05 16:47:41",
         "4.0"
        ],
        [
         "4",
         "0",
         "2018-04-07 06:05:21",
         "5.0"
        ],
        [
         "5",
         "0",
         "2018-04-07 10:18:42",
         "6.0"
        ],
        [
         "6",
         "0",
         "2018-04-07 14:37:49",
         "7.0"
        ],
        [
         "7",
         "0",
         "2018-04-09 13:36:59",
         "8.0"
        ],
        [
         "8",
         "0",
         "2018-04-10 07:53:35",
         "8.0"
        ],
        [
         "9",
         "0",
         "2018-04-10 10:19:15",
         "8.0"
        ],
        [
         "10",
         "0",
         "2018-04-12 13:32:55",
         "8.0"
        ],
        [
         "11",
         "0",
         "2018-04-12 20:57:28",
         "9.0"
        ],
        [
         "12",
         "0",
         "2018-04-14 13:16:28",
         "9.0"
        ],
        [
         "13",
         "0",
         "2018-04-15 03:43:29",
         "10.0"
        ],
        [
         "14",
         "0",
         "2018-04-15 12:10:31",
         "9.0"
        ],
        [
         "15",
         "0",
         "2018-04-17 11:46:07",
         "9.0"
        ],
        [
         "16",
         "0",
         "2018-04-20 09:21:00",
         "7.0"
        ],
        [
         "17",
         "0",
         "2018-04-22 13:37:11",
         "5.0"
        ],
        [
         "18",
         "0",
         "2018-04-23 14:58:55",
         "4.0"
        ],
        [
         "19",
         "0",
         "2018-04-26 11:16:21",
         "4.0"
        ],
        [
         "20",
         "0",
         "2018-04-27 07:13:27",
         "5.0"
        ],
        [
         "21",
         "0",
         "2018-04-28 07:05:32",
         "6.0"
        ],
        [
         "22",
         "0",
         "2018-04-29 09:11:30",
         "6.0"
        ],
        [
         "23",
         "0",
         "2018-04-30 18:29:40",
         "6.0"
        ],
        [
         "24",
         "0",
         "2018-05-01 22:19:15",
         "6.0"
        ],
        [
         "25",
         "0",
         "2018-05-02 16:31:01",
         "7.0"
        ],
        [
         "26",
         "0",
         "2018-05-06 08:09:05",
         "5.0"
        ],
        [
         "27",
         "0",
         "2018-05-08 11:40:48",
         "5.0"
        ],
        [
         "28",
         "0",
         "2018-05-09 07:33:41",
         "5.0"
        ],
        [
         "29",
         "0",
         "2018-05-10 11:16:07",
         "5.0"
        ],
        [
         "30",
         "0",
         "2018-05-10 15:43:16",
         "6.0"
        ],
        [
         "31",
         "0",
         "2018-05-11 11:59:14",
         "6.0"
        ],
        [
         "32",
         "0",
         "2018-05-11 17:45:40",
         "7.0"
        ],
        [
         "33",
         "0",
         "2018-05-12 12:00:29",
         "8.0"
        ],
        [
         "34",
         "0",
         "2018-05-15 11:37:14",
         "8.0"
        ],
        [
         "35",
         "0",
         "2018-05-16 15:52:10",
         "8.0"
        ],
        [
         "36",
         "0",
         "2018-05-18 07:20:47",
         "8.0"
        ],
        [
         "37",
         "0",
         "2018-05-18 12:34:21",
         "8.0"
        ],
        [
         "38",
         "0",
         "2018-05-19 12:16:35",
         "7.0"
        ],
        [
         "39",
         "0",
         "2018-05-20 14:02:52",
         "6.0"
        ],
        [
         "40",
         "0",
         "2018-05-21 22:19:25",
         "7.0"
        ],
        [
         "41",
         "0",
         "2018-05-23 13:56:05",
         "7.0"
        ],
        [
         "42",
         "0",
         "2018-05-23 21:41:18",
         "8.0"
        ],
        [
         "43",
         "0",
         "2018-05-27 12:07:13",
         "6.0"
        ],
        [
         "44",
         "0",
         "2018-05-29 02:09:40",
         "5.0"
        ],
        [
         "45",
         "0",
         "2018-05-31 11:14:02",
         "5.0"
        ],
        [
         "46",
         "0",
         "2018-06-02 10:35:37",
         "4.0"
        ],
        [
         "47",
         "0",
         "2018-06-02 14:32:11",
         "5.0"
        ],
        [
         "48",
         "0",
         "2018-06-06 10:40:31",
         "4.0"
        ],
        [
         "49",
         "0",
         "2018-06-07 09:51:31",
         "5.0"
        ]
       ],
       "shape": {
        "columns": 3,
        "rows": 1754155
       }
      },
      "text/html": [
       "<div>\n",
       "<style scoped>\n",
       "    .dataframe tbody tr th:only-of-type {\n",
       "        vertical-align: middle;\n",
       "    }\n",
       "\n",
       "    .dataframe tbody tr th {\n",
       "        vertical-align: top;\n",
       "    }\n",
       "\n",
       "    .dataframe thead th {\n",
       "        text-align: right;\n",
       "    }\n",
       "</style>\n",
       "<table border=\"1\" class=\"dataframe\">\n",
       "  <thead>\n",
       "    <tr style=\"text-align: right;\">\n",
       "      <th></th>\n",
       "      <th>TERMINAL_ID</th>\n",
       "      <th>TX_DATETIME</th>\n",
       "      <th>TX_FRAUD</th>\n",
       "    </tr>\n",
       "  </thead>\n",
       "  <tbody>\n",
       "    <tr>\n",
       "      <th>0</th>\n",
       "      <td>0</td>\n",
       "      <td>2018-04-02 01:00:01</td>\n",
       "      <td>1.0</td>\n",
       "    </tr>\n",
       "    <tr>\n",
       "      <th>1</th>\n",
       "      <td>0</td>\n",
       "      <td>2018-04-02 09:49:55</td>\n",
       "      <td>2.0</td>\n",
       "    </tr>\n",
       "    <tr>\n",
       "      <th>2</th>\n",
       "      <td>0</td>\n",
       "      <td>2018-04-03 12:14:41</td>\n",
       "      <td>3.0</td>\n",
       "    </tr>\n",
       "    <tr>\n",
       "      <th>3</th>\n",
       "      <td>0</td>\n",
       "      <td>2018-04-05 16:47:41</td>\n",
       "      <td>4.0</td>\n",
       "    </tr>\n",
       "    <tr>\n",
       "      <th>4</th>\n",
       "      <td>0</td>\n",
       "      <td>2018-04-07 06:05:21</td>\n",
       "      <td>5.0</td>\n",
       "    </tr>\n",
       "    <tr>\n",
       "      <th>...</th>\n",
       "      <td>...</td>\n",
       "      <td>...</td>\n",
       "      <td>...</td>\n",
       "    </tr>\n",
       "    <tr>\n",
       "      <th>1754150</th>\n",
       "      <td>9999</td>\n",
       "      <td>2018-09-28 15:34:24</td>\n",
       "      <td>10.0</td>\n",
       "    </tr>\n",
       "    <tr>\n",
       "      <th>1754151</th>\n",
       "      <td>9999</td>\n",
       "      <td>2018-09-30 05:36:08</td>\n",
       "      <td>7.0</td>\n",
       "    </tr>\n",
       "    <tr>\n",
       "      <th>1754152</th>\n",
       "      <td>9999</td>\n",
       "      <td>2018-09-30 09:00:10</td>\n",
       "      <td>8.0</td>\n",
       "    </tr>\n",
       "    <tr>\n",
       "      <th>1754153</th>\n",
       "      <td>9999</td>\n",
       "      <td>2018-09-30 17:47:37</td>\n",
       "      <td>9.0</td>\n",
       "    </tr>\n",
       "    <tr>\n",
       "      <th>1754154</th>\n",
       "      <td>9999</td>\n",
       "      <td>2018-09-30 20:50:32</td>\n",
       "      <td>10.0</td>\n",
       "    </tr>\n",
       "  </tbody>\n",
       "</table>\n",
       "<p>1754155 rows × 3 columns</p>\n",
       "</div>"
      ],
      "text/plain": [
       "         TERMINAL_ID         TX_DATETIME  TX_FRAUD\n",
       "0                  0 2018-04-02 01:00:01       1.0\n",
       "1                  0 2018-04-02 09:49:55       2.0\n",
       "2                  0 2018-04-03 12:14:41       3.0\n",
       "3                  0 2018-04-05 16:47:41       4.0\n",
       "4                  0 2018-04-07 06:05:21       5.0\n",
       "...              ...                 ...       ...\n",
       "1754150         9999 2018-09-28 15:34:24      10.0\n",
       "1754151         9999 2018-09-30 05:36:08       7.0\n",
       "1754152         9999 2018-09-30 09:00:10       8.0\n",
       "1754153         9999 2018-09-30 17:47:37       9.0\n",
       "1754154         9999 2018-09-30 20:50:32      10.0\n",
       "\n",
       "[1754155 rows x 3 columns]"
      ]
     },
     "execution_count": 9,
     "metadata": {},
     "output_type": "execute_result"
    }
   ],
   "source": [
    "NB_TX_DELAY_AND_SIZE = df_30day.groupby(\"TERMINAL_ID\").rolling(\"8d\",on=\"TX_DATETIME\")[\"TX_FRAUD\"].count()\n",
    "NB_TX_DELAY = df_30day.groupby(\"TERMINAL_ID\").rolling(\"7d\",on=\"TX_DATETIME\")[\"TX_FRAUD\"].count()\n",
    "NB_TX = NB_TX_DELAY_AND_SIZE - NB_TX_DELAY\n",
    "NB_TX_DELAY_AND_SIZE.reset_index()\n",
    "\n"
   ]
  },
  {
   "cell_type": "code",
   "execution_count": 10,
   "id": "e5cd05f0",
   "metadata": {},
   "outputs": [
    {
     "data": {
      "application/vnd.microsoft.datawrangler.viewer.v0+json": {
       "columns": [
        {
         "name": "index",
         "rawType": "int64",
         "type": "integer"
        },
        {
         "name": "TERMINAL_ID",
         "rawType": "int64",
         "type": "integer"
        },
        {
         "name": "TX_DATETIME",
         "rawType": "datetime64[ns]",
         "type": "datetime"
        },
        {
         "name": "TX_FRAUD",
         "rawType": "float64",
         "type": "float"
        }
       ],
       "conversionMethod": "pd.DataFrame",
       "ref": "b2b48760-eed1-4246-9cfc-7e0c38fef087",
       "rows": [
        [
         "0",
         "0",
         "2018-04-02 01:00:01",
         "0.0"
        ],
        [
         "1",
         "0",
         "2018-04-02 09:49:55",
         "0.0"
        ],
        [
         "2",
         "0",
         "2018-04-03 12:14:41",
         "0.0"
        ],
        [
         "3",
         "0",
         "2018-04-05 16:47:41",
         "0.0"
        ],
        [
         "4",
         "0",
         "2018-04-07 06:05:21",
         "0.0"
        ],
        [
         "5",
         "0",
         "2018-04-07 10:18:42",
         "0.0"
        ],
        [
         "6",
         "0",
         "2018-04-07 14:37:49",
         "0.0"
        ],
        [
         "7",
         "0",
         "2018-04-09 13:36:59",
         "0.0"
        ],
        [
         "8",
         "0",
         "2018-04-10 07:53:35",
         "0.0"
        ],
        [
         "9",
         "0",
         "2018-04-10 10:19:15",
         "0.0"
        ],
        [
         "10",
         "0",
         "2018-04-12 13:32:55",
         "0.0"
        ],
        [
         "11",
         "0",
         "2018-04-12 20:57:28",
         "0.0"
        ],
        [
         "12",
         "0",
         "2018-04-14 13:16:28",
         "0.0"
        ],
        [
         "13",
         "0",
         "2018-04-15 03:43:29",
         "0.0"
        ],
        [
         "14",
         "0",
         "2018-04-15 12:10:31",
         "0.0"
        ],
        [
         "15",
         "0",
         "2018-04-17 11:46:07",
         "0.0"
        ],
        [
         "16",
         "0",
         "2018-04-20 09:21:00",
         "0.0"
        ],
        [
         "17",
         "0",
         "2018-04-22 13:37:11",
         "0.0"
        ],
        [
         "18",
         "0",
         "2018-04-23 14:58:55",
         "0.0"
        ],
        [
         "19",
         "0",
         "2018-04-26 11:16:21",
         "0.0"
        ],
        [
         "20",
         "0",
         "2018-04-27 07:13:27",
         "0.0"
        ],
        [
         "21",
         "0",
         "2018-04-28 07:05:32",
         "0.0"
        ],
        [
         "22",
         "0",
         "2018-04-29 09:11:30",
         "0.0"
        ],
        [
         "23",
         "0",
         "2018-04-30 18:29:40",
         "0.0"
        ],
        [
         "24",
         "0",
         "2018-05-01 22:19:15",
         "0.0"
        ],
        [
         "25",
         "0",
         "2018-05-02 16:31:01",
         "0.0"
        ],
        [
         "26",
         "0",
         "2018-05-06 08:09:05",
         "0.0"
        ],
        [
         "27",
         "0",
         "2018-05-08 11:40:48",
         "0.0"
        ],
        [
         "28",
         "0",
         "2018-05-09 07:33:41",
         "0.0"
        ],
        [
         "29",
         "0",
         "2018-05-10 11:16:07",
         "0.0"
        ],
        [
         "30",
         "0",
         "2018-05-10 15:43:16",
         "0.0"
        ],
        [
         "31",
         "0",
         "2018-05-11 11:59:14",
         "0.0"
        ],
        [
         "32",
         "0",
         "2018-05-11 17:45:40",
         "0.0"
        ],
        [
         "33",
         "0",
         "2018-05-12 12:00:29",
         "0.0"
        ],
        [
         "34",
         "0",
         "2018-05-15 11:37:14",
         "0.0"
        ],
        [
         "35",
         "0",
         "2018-05-16 15:52:10",
         "0.0"
        ],
        [
         "36",
         "0",
         "2018-05-18 07:20:47",
         "0.0"
        ],
        [
         "37",
         "0",
         "2018-05-18 12:34:21",
         "0.0"
        ],
        [
         "38",
         "0",
         "2018-05-19 12:16:35",
         "0.0"
        ],
        [
         "39",
         "0",
         "2018-05-20 14:02:52",
         "0.0"
        ],
        [
         "40",
         "0",
         "2018-05-21 22:19:25",
         "0.0"
        ],
        [
         "41",
         "0",
         "2018-05-23 13:56:05",
         "0.0"
        ],
        [
         "42",
         "0",
         "2018-05-23 21:41:18",
         "0.0"
        ],
        [
         "43",
         "0",
         "2018-05-27 12:07:13",
         "0.0"
        ],
        [
         "44",
         "0",
         "2018-05-29 02:09:40",
         "0.0"
        ],
        [
         "45",
         "0",
         "2018-05-31 11:14:02",
         "0.0"
        ],
        [
         "46",
         "0",
         "2018-06-02 10:35:37",
         "0.0"
        ],
        [
         "47",
         "0",
         "2018-06-02 14:32:11",
         "0.0"
        ],
        [
         "48",
         "0",
         "2018-06-06 10:40:31",
         "0.0"
        ],
        [
         "49",
         "0",
         "2018-06-07 09:51:31",
         "0.0"
        ]
       ],
       "shape": {
        "columns": 3,
        "rows": 1754155
       }
      },
      "text/html": [
       "<div>\n",
       "<style scoped>\n",
       "    .dataframe tbody tr th:only-of-type {\n",
       "        vertical-align: middle;\n",
       "    }\n",
       "\n",
       "    .dataframe tbody tr th {\n",
       "        vertical-align: top;\n",
       "    }\n",
       "\n",
       "    .dataframe thead th {\n",
       "        text-align: right;\n",
       "    }\n",
       "</style>\n",
       "<table border=\"1\" class=\"dataframe\">\n",
       "  <thead>\n",
       "    <tr style=\"text-align: right;\">\n",
       "      <th></th>\n",
       "      <th>TERMINAL_ID</th>\n",
       "      <th>TX_DATETIME</th>\n",
       "      <th>TX_FRAUD</th>\n",
       "    </tr>\n",
       "  </thead>\n",
       "  <tbody>\n",
       "    <tr>\n",
       "      <th>0</th>\n",
       "      <td>0</td>\n",
       "      <td>2018-04-02 01:00:01</td>\n",
       "      <td>0.0</td>\n",
       "    </tr>\n",
       "    <tr>\n",
       "      <th>1</th>\n",
       "      <td>0</td>\n",
       "      <td>2018-04-02 09:49:55</td>\n",
       "      <td>0.0</td>\n",
       "    </tr>\n",
       "    <tr>\n",
       "      <th>2</th>\n",
       "      <td>0</td>\n",
       "      <td>2018-04-03 12:14:41</td>\n",
       "      <td>0.0</td>\n",
       "    </tr>\n",
       "    <tr>\n",
       "      <th>3</th>\n",
       "      <td>0</td>\n",
       "      <td>2018-04-05 16:47:41</td>\n",
       "      <td>0.0</td>\n",
       "    </tr>\n",
       "    <tr>\n",
       "      <th>4</th>\n",
       "      <td>0</td>\n",
       "      <td>2018-04-07 06:05:21</td>\n",
       "      <td>0.0</td>\n",
       "    </tr>\n",
       "    <tr>\n",
       "      <th>...</th>\n",
       "      <td>...</td>\n",
       "      <td>...</td>\n",
       "      <td>...</td>\n",
       "    </tr>\n",
       "    <tr>\n",
       "      <th>1754150</th>\n",
       "      <td>9999</td>\n",
       "      <td>2018-09-28 15:34:24</td>\n",
       "      <td>0.0</td>\n",
       "    </tr>\n",
       "    <tr>\n",
       "      <th>1754151</th>\n",
       "      <td>9999</td>\n",
       "      <td>2018-09-30 05:36:08</td>\n",
       "      <td>0.0</td>\n",
       "    </tr>\n",
       "    <tr>\n",
       "      <th>1754152</th>\n",
       "      <td>9999</td>\n",
       "      <td>2018-09-30 09:00:10</td>\n",
       "      <td>0.0</td>\n",
       "    </tr>\n",
       "    <tr>\n",
       "      <th>1754153</th>\n",
       "      <td>9999</td>\n",
       "      <td>2018-09-30 17:47:37</td>\n",
       "      <td>0.0</td>\n",
       "    </tr>\n",
       "    <tr>\n",
       "      <th>1754154</th>\n",
       "      <td>9999</td>\n",
       "      <td>2018-09-30 20:50:32</td>\n",
       "      <td>0.0</td>\n",
       "    </tr>\n",
       "  </tbody>\n",
       "</table>\n",
       "<p>1754155 rows × 3 columns</p>\n",
       "</div>"
      ],
      "text/plain": [
       "         TERMINAL_ID         TX_DATETIME  TX_FRAUD\n",
       "0                  0 2018-04-02 01:00:01       0.0\n",
       "1                  0 2018-04-02 09:49:55       0.0\n",
       "2                  0 2018-04-03 12:14:41       0.0\n",
       "3                  0 2018-04-05 16:47:41       0.0\n",
       "4                  0 2018-04-07 06:05:21       0.0\n",
       "...              ...                 ...       ...\n",
       "1754150         9999 2018-09-28 15:34:24       0.0\n",
       "1754151         9999 2018-09-30 05:36:08       0.0\n",
       "1754152         9999 2018-09-30 09:00:10       0.0\n",
       "1754153         9999 2018-09-30 17:47:37       0.0\n",
       "1754154         9999 2018-09-30 20:50:32       0.0\n",
       "\n",
       "[1754155 rows x 3 columns]"
      ]
     },
     "execution_count": 10,
     "metadata": {},
     "output_type": "execute_result"
    }
   ],
   "source": [
    "TERMINAL_ID_RISK_nDAY_WINDOW = NB_TX_FRAUD/NB_TX\n",
    "TERMINAL_ID_RISK_nDAY_WINDOW.fillna(0).reset_index()"
   ]
  },
  {
   "cell_type": "code",
   "execution_count": 11,
   "id": "e5843036",
   "metadata": {},
   "outputs": [],
   "source": [
    "def get_count_risk_rolling_window(terminal_transactions, delay_period=7, windows_size_in_days=[1,7,30], feature=\"TERMINAL_ID\"):\n",
    "    \n",
    "    terminal_transactions=terminal_transactions.sort_values('TX_DATETIME')\n",
    "    \n",
    "    terminal_transactions.index=terminal_transactions.TX_DATETIME\n",
    "    \n",
    "    NB_FRAUD_DELAY=terminal_transactions['TX_FRAUD'].rolling(str(delay_period)+'d').sum()\n",
    "    NB_TX_DELAY=terminal_transactions['TX_FRAUD'].rolling(str(delay_period)+'d').count()\n",
    "    \n",
    "    for window_size in windows_size_in_days:\n",
    "    \n",
    "        NB_FRAUD_DELAY_WINDOW=terminal_transactions['TX_FRAUD'].rolling(str(delay_period+window_size)+'d').sum()\n",
    "        NB_TX_DELAY_WINDOW=terminal_transactions['TX_FRAUD'].rolling(str(delay_period+window_size)+'d').count()\n",
    "    \n",
    "        NB_FRAUD_WINDOW=NB_FRAUD_DELAY_WINDOW-NB_FRAUD_DELAY\n",
    "        NB_TX_WINDOW=NB_TX_DELAY_WINDOW-NB_TX_DELAY\n",
    "    \n",
    "        RISK_WINDOW=NB_FRAUD_WINDOW/NB_TX_WINDOW\n",
    "        \n",
    "        terminal_transactions[feature+'_NB_TX_'+str(window_size)+'DAY_WINDOW']=list(NB_TX_WINDOW)\n",
    "        terminal_transactions[feature+'_RISK_'+str(window_size)+'DAY_WINDOW']=list(RISK_WINDOW)\n",
    "        \n",
    "    terminal_transactions.index=terminal_transactions.TRANSACTION_ID\n",
    "    \n",
    "    # Replace NA values with 0 (all undefined risk scores where NB_TX_WINDOW is 0) \n",
    "    terminal_transactions.fillna(0,inplace=True)\n",
    "    \n",
    "    return terminal_transactions"
   ]
  },
  {
   "cell_type": "code",
   "execution_count": 12,
   "id": "fc98cbe1",
   "metadata": {},
   "outputs": [],
   "source": [
    "df_30day = get_count_risk_rolling_window(df_30day)"
   ]
  },
  {
   "cell_type": "code",
   "execution_count": 13,
   "id": "6ea22f25",
   "metadata": {},
   "outputs": [
    {
     "data": {
      "text/plain": [
       "TERMINAL_ID_RISK_1DAY_WINDOW\n",
       "0.000000    70471\n",
       "0.000173        1\n",
       "0.000173        1\n",
       "0.000173        2\n",
       "0.000173        1\n",
       "            ...  \n",
       "0.012155        5\n",
       "0.012156        2\n",
       "0.012157        2\n",
       "0.012158        3\n",
       "0.012245        4\n",
       "Name: count, Length: 36226, dtype: int64"
      ]
     },
     "execution_count": 13,
     "metadata": {},
     "output_type": "execute_result"
    }
   ],
   "source": [
    "df_30day.loc[:,\"TERMINAL_ID_RISK_1DAY_WINDOW\"].fillna(0).value_counts().sort_index()"
   ]
  },
  {
   "cell_type": "code",
   "execution_count": 14,
   "id": "82644fdd",
   "metadata": {},
   "outputs": [
    {
     "data": {
      "application/vnd.microsoft.datawrangler.viewer.v0+json": {
       "columns": [
        {
         "name": "index",
         "rawType": "int64",
         "type": "integer"
        },
        {
         "name": "TRANSACTION_ID",
         "rawType": "int64",
         "type": "integer"
        },
        {
         "name": "TERMINAL_ID_NB_TX_1DAY_WINDOW",
         "rawType": "float64",
         "type": "float"
        },
        {
         "name": "TERMINAL_ID",
         "rawType": "object",
         "type": "unknown"
        },
        {
         "name": "TX_DATETIME",
         "rawType": "datetime64[ns]",
         "type": "datetime"
        }
       ],
       "conversionMethod": "pd.DataFrame",
       "ref": "410cf062-18f1-41e2-898a-975f126ab01b",
       "rows": [
        [
         "9579",
         "9579",
         "0.0",
         "0",
         "2018-04-02 01:00:01"
        ],
        [
         "12806",
         "12806",
         "0.0",
         "0",
         "2018-04-02 09:49:55"
        ],
        [
         "24184",
         "24184",
         "0.0",
         "0",
         "2018-04-03 12:14:41"
        ],
        [
         "46284",
         "46284",
         "0.0",
         "0",
         "2018-04-05 16:47:41"
        ],
        [
         "58807",
         "58807",
         "0.0",
         "0",
         "2018-04-07 06:05:21"
        ],
        [
         "61225",
         "61225",
         "0.0",
         "0",
         "2018-04-07 10:18:42"
        ],
        [
         "64116",
         "64116",
         "0.0",
         "0",
         "2018-04-07 14:37:49"
        ],
        [
         "82373",
         "82373",
         "9579.0",
         "0",
         "2018-04-09 13:36:59"
        ],
        [
         "88261",
         "88261",
         "9689.0",
         "0",
         "2018-04-10 07:53:35"
        ],
        [
         "89762",
         "89762",
         "9669.0",
         "0",
         "2018-04-10 10:19:15"
        ],
        [
         "111279",
         "111279",
         "9611.0",
         "0",
         "2018-04-12 13:32:55"
        ],
        [
         "114608",
         "114608",
         "9663.0",
         "0",
         "2018-04-12 20:57:28"
        ],
        [
         "130395",
         "130395",
         "9583.0",
         "0",
         "2018-04-14 13:16:28"
        ],
        [
         "134804",
         "134804",
         "9394.0",
         "0",
         "2018-04-15 03:43:29"
        ],
        [
         "139146",
         "139146",
         "9278.0",
         "0",
         "2018-04-15 12:10:31"
        ],
        [
         "157893",
         "157893",
         "9687.0",
         "0",
         "2018-04-17 11:46:07"
        ],
        [
         "185015",
         "185015",
         "9617.0",
         "0",
         "2018-04-20 09:21:00"
        ],
        [
         "207284",
         "207284",
         "9496.0",
         "0",
         "2018-04-22 13:37:11"
        ],
        [
         "217945",
         "217945",
         "9501.0",
         "0",
         "2018-04-23 14:58:55"
        ],
        [
         "244193",
         "244193",
         "9616.0",
         "0",
         "2018-04-26 11:16:21"
        ],
        [
         "251245",
         "251245",
         "9497.0",
         "0",
         "2018-04-27 07:13:27"
        ],
        [
         "260821",
         "260821",
         "9577.0",
         "0",
         "2018-04-28 07:05:32"
        ],
        [
         "271589",
         "271589",
         "9722.0",
         "0",
         "2018-04-29 09:11:30"
        ],
        [
         "286975",
         "286975",
         "9695.0",
         "0",
         "2018-04-30 18:29:40"
        ],
        [
         "297474",
         "297474",
         "9533.0",
         "0",
         "2018-05-01 22:19:15"
        ],
        [
         "305237",
         "305237",
         "9556.0",
         "0",
         "2018-05-02 16:31:01"
        ],
        [
         "338167",
         "338167",
         "9648.0",
         "0",
         "2018-05-06 08:09:05"
        ],
        [
         "359771",
         "359771",
         "9613.0",
         "0",
         "2018-05-08 11:40:48"
        ],
        [
         "366688",
         "366688",
         "9657.0",
         "0",
         "2018-05-09 07:33:41"
        ],
        [
         "378673",
         "378673",
         "9684.0",
         "0",
         "2018-05-10 11:16:07"
        ],
        [
         "381672",
         "381672",
         "9772.0",
         "0",
         "2018-05-10 15:43:16"
        ],
        [
         "388855",
         "388855",
         "9662.0",
         "0",
         "2018-05-11 11:59:14"
        ],
        [
         "392319",
         "392319",
         "9535.0",
         "0",
         "2018-05-11 17:45:40"
        ],
        [
         "398408",
         "398408",
         "9449.0",
         "0",
         "2018-05-12 12:00:29"
        ],
        [
         "426831",
         "426831",
         "9613.0",
         "0",
         "2018-05-15 11:37:14"
        ],
        [
         "439265",
         "439265",
         "9540.0",
         "0",
         "2018-05-16 15:52:10"
        ],
        [
         "453128",
         "453128",
         "9703.0",
         "0",
         "2018-05-18 07:20:47"
        ],
        [
         "456483",
         "456484",
         "9702.0",
         "0",
         "2018-05-18 12:34:21"
        ],
        [
         "465801",
         "465801",
         "9500.0",
         "0",
         "2018-05-19 12:16:35"
        ],
        [
         "476763",
         "476763",
         "9513.0",
         "0",
         "2018-05-20 14:02:52"
        ],
        [
         "489773",
         "489773",
         "9689.0",
         "0",
         "2018-05-21 22:19:25"
        ],
        [
         "505412",
         "505412",
         "9608.0",
         "0",
         "2018-05-23 13:56:05"
        ],
        [
         "508530",
         "508530",
         "9783.0",
         "0",
         "2018-05-23 21:41:18"
        ],
        [
         "542421",
         "542421",
         "9717.0",
         "0",
         "2018-05-27 12:07:13"
        ],
        [
         "556982",
         "556982",
         "9696.0",
         "0",
         "2018-05-29 02:09:40"
        ],
        [
         "579948",
         "579948",
         "9381.0",
         "0",
         "2018-05-31 11:14:02"
        ],
        [
         "598535",
         "598535",
         "9643.0",
         "0",
         "2018-06-02 10:35:37"
        ],
        [
         "601293",
         "601293",
         "9642.0",
         "0",
         "2018-06-02 14:32:11"
        ],
        [
         "636831",
         "636831",
         "9462.0",
         "0",
         "2018-06-06 10:40:31"
        ],
        [
         "645864",
         "645864",
         "9483.0",
         "0",
         "2018-06-07 09:51:31"
        ]
       ],
       "shape": {
        "columns": 4,
        "rows": 1754155
       }
      },
      "text/html": [
       "<div>\n",
       "<style scoped>\n",
       "    .dataframe tbody tr th:only-of-type {\n",
       "        vertical-align: middle;\n",
       "    }\n",
       "\n",
       "    .dataframe tbody tr th {\n",
       "        vertical-align: top;\n",
       "    }\n",
       "\n",
       "    .dataframe thead th {\n",
       "        text-align: right;\n",
       "    }\n",
       "</style>\n",
       "<table border=\"1\" class=\"dataframe\">\n",
       "  <thead>\n",
       "    <tr style=\"text-align: right;\">\n",
       "      <th></th>\n",
       "      <th>TRANSACTION_ID</th>\n",
       "      <th>TERMINAL_ID_NB_TX_1DAY_WINDOW</th>\n",
       "      <th>TERMINAL_ID</th>\n",
       "      <th>TX_DATETIME</th>\n",
       "    </tr>\n",
       "  </thead>\n",
       "  <tbody>\n",
       "    <tr>\n",
       "      <th>9579</th>\n",
       "      <td>9579</td>\n",
       "      <td>0.0</td>\n",
       "      <td>0</td>\n",
       "      <td>2018-04-02 01:00:01</td>\n",
       "    </tr>\n",
       "    <tr>\n",
       "      <th>12806</th>\n",
       "      <td>12806</td>\n",
       "      <td>0.0</td>\n",
       "      <td>0</td>\n",
       "      <td>2018-04-02 09:49:55</td>\n",
       "    </tr>\n",
       "    <tr>\n",
       "      <th>24184</th>\n",
       "      <td>24184</td>\n",
       "      <td>0.0</td>\n",
       "      <td>0</td>\n",
       "      <td>2018-04-03 12:14:41</td>\n",
       "    </tr>\n",
       "    <tr>\n",
       "      <th>46284</th>\n",
       "      <td>46284</td>\n",
       "      <td>0.0</td>\n",
       "      <td>0</td>\n",
       "      <td>2018-04-05 16:47:41</td>\n",
       "    </tr>\n",
       "    <tr>\n",
       "      <th>58807</th>\n",
       "      <td>58807</td>\n",
       "      <td>0.0</td>\n",
       "      <td>0</td>\n",
       "      <td>2018-04-07 06:05:21</td>\n",
       "    </tr>\n",
       "    <tr>\n",
       "      <th>...</th>\n",
       "      <td>...</td>\n",
       "      <td>...</td>\n",
       "      <td>...</td>\n",
       "      <td>...</td>\n",
       "    </tr>\n",
       "    <tr>\n",
       "      <th>1732586</th>\n",
       "      <td>1732586</td>\n",
       "      <td>9720.0</td>\n",
       "      <td>9999</td>\n",
       "      <td>2018-09-28 15:34:24</td>\n",
       "    </tr>\n",
       "    <tr>\n",
       "      <th>1745583</th>\n",
       "      <td>1745583</td>\n",
       "      <td>9739.0</td>\n",
       "      <td>9999</td>\n",
       "      <td>2018-09-30 05:36:08</td>\n",
       "    </tr>\n",
       "    <tr>\n",
       "      <th>1747229</th>\n",
       "      <td>1747229</td>\n",
       "      <td>9689.0</td>\n",
       "      <td>9999</td>\n",
       "      <td>2018-09-30 09:00:10</td>\n",
       "    </tr>\n",
       "    <tr>\n",
       "      <th>1752796</th>\n",
       "      <td>1752796</td>\n",
       "      <td>9718.0</td>\n",
       "      <td>9999</td>\n",
       "      <td>2018-09-30 17:47:37</td>\n",
       "    </tr>\n",
       "    <tr>\n",
       "      <th>1753738</th>\n",
       "      <td>1753738</td>\n",
       "      <td>9688.0</td>\n",
       "      <td>9999</td>\n",
       "      <td>2018-09-30 20:50:32</td>\n",
       "    </tr>\n",
       "  </tbody>\n",
       "</table>\n",
       "<p>1754155 rows × 4 columns</p>\n",
       "</div>"
      ],
      "text/plain": [
       "         TRANSACTION_ID  TERMINAL_ID_NB_TX_1DAY_WINDOW TERMINAL_ID  \\\n",
       "9579               9579                            0.0           0   \n",
       "12806             12806                            0.0           0   \n",
       "24184             24184                            0.0           0   \n",
       "46284             46284                            0.0           0   \n",
       "58807             58807                            0.0           0   \n",
       "...                 ...                            ...         ...   \n",
       "1732586         1732586                         9720.0        9999   \n",
       "1745583         1745583                         9739.0        9999   \n",
       "1747229         1747229                         9689.0        9999   \n",
       "1752796         1752796                         9718.0        9999   \n",
       "1753738         1753738                         9688.0        9999   \n",
       "\n",
       "                TX_DATETIME  \n",
       "9579    2018-04-02 01:00:01  \n",
       "12806   2018-04-02 09:49:55  \n",
       "24184   2018-04-03 12:14:41  \n",
       "46284   2018-04-05 16:47:41  \n",
       "58807   2018-04-07 06:05:21  \n",
       "...                     ...  \n",
       "1732586 2018-09-28 15:34:24  \n",
       "1745583 2018-09-30 05:36:08  \n",
       "1747229 2018-09-30 09:00:10  \n",
       "1752796 2018-09-30 17:47:37  \n",
       "1753738 2018-09-30 20:50:32  \n",
       "\n",
       "[1754155 rows x 4 columns]"
      ]
     },
     "execution_count": 14,
     "metadata": {},
     "output_type": "execute_result"
    }
   ],
   "source": [
    "df_30day[[\"TERMINAL_ID_NB_TX_1DAY_WINDOW\",\"TERMINAL_ID\",\"TX_DATETIME\"]].reset_index().sort_values([\"TERMINAL_ID\",\"TX_DATETIME\"])"
   ]
  },
  {
   "cell_type": "code",
   "execution_count": 56,
   "id": "33c4fcff",
   "metadata": {},
   "outputs": [
    {
     "name": "stdout",
     "output_type": "stream",
     "text": [
      "c:\\Users\\thuhi\\workspace\\fraud_detection\\notebook\n",
      "c:\\Users\\thuhi\\workspace\\fraud_detection\n"
     ]
    }
   ],
   "source": [
    "import os\n",
    "print(os.getcwd())\n",
    "os.chdir(\"..\")\n",
    "print(os.getcwd())"
   ]
  },
  {
   "cell_type": "code",
   "execution_count": null,
   "id": "976c017f",
   "metadata": {},
   "outputs": [
    {
     "ename": "TypeError",
     "evalue": "Preprocessor.__init__() missing 1 required positional argument: 'df'",
     "output_type": "error",
     "traceback": [
      "\u001b[31m---------------------------------------------------------------------------\u001b[39m",
      "\u001b[31mTypeError\u001b[39m                                 Traceback (most recent call last)",
      "\u001b[36mCell\u001b[39m\u001b[36m \u001b[39m\u001b[32mIn[60]\u001b[39m\u001b[32m, line 3\u001b[39m\n\u001b[32m      1\u001b[39m \u001b[38;5;28;01mfrom\u001b[39;00m\u001b[38;5;250m \u001b[39m\u001b[34;01msrc\u001b[39;00m\u001b[34;01m.\u001b[39;00m\u001b[34;01mbaseline\u001b[39;00m\u001b[34;01m.\u001b[39;00m\u001b[34;01mfeatures_engineering\u001b[39;00m\u001b[38;5;250m \u001b[39m\u001b[38;5;28;01mimport\u001b[39;00m Preprocessor\n\u001b[32m----> \u001b[39m\u001b[32m3\u001b[39m preprocessor = \u001b[43mPreprocessor\u001b[49m\u001b[43m(\u001b[49m\u001b[43m)\u001b[49m\n\u001b[32m      4\u001b[39m preprocessor\n",
      "\u001b[31mTypeError\u001b[39m: Preprocessor.__init__() missing 1 required positional argument: 'df'"
     ]
    },
    {
     "ename": "",
     "evalue": "",
     "output_type": "error",
     "traceback": [
      "\u001b[1;31mThe Kernel crashed while executing code in the current cell or a previous cell. \n",
      "\u001b[1;31mPlease review the code in the cell(s) to identify a possible cause of the failure. \n",
      "\u001b[1;31mClick <a href='https://aka.ms/vscodeJupyterKernelCrash'>here</a> for more info. \n",
      "\u001b[1;31mView Jupyter <a href='command:jupyter.viewOutput'>log</a> for further details."
     ]
    }
   ],
   "source": [
    "from src.baseline.features_engineering import Preprocessor\n",
    "\n",
    "preprocessor = Preprocessor()\n",
    "preprocessor\n"
   ]
  }
 ],
 "metadata": {
  "kernelspec": {
   "display_name": "fraud_detection_venv",
   "language": "python",
   "name": "python3"
  },
  "language_info": {
   "codemirror_mode": {
    "name": "ipython",
    "version": 3
   },
   "file_extension": ".py",
   "mimetype": "text/x-python",
   "name": "python",
   "nbconvert_exporter": "python",
   "pygments_lexer": "ipython3",
   "version": "3.11.9"
  }
 },
 "nbformat": 4,
 "nbformat_minor": 5
}
